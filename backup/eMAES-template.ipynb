{
 "cells": [
  {
   "cell_type": "code",
   "execution_count": 2,
   "id": "c8bfe462-46c2-4fcf-921c-5f252a14cf14",
   "metadata": {},
   "outputs": [],
   "source": [
    "from pckgConOpt.maes import MAES, epsMAgES, keep_range\n",
    "import numpy as np\n",
    "import seaborn as sea\n",
    "import matplotlib.pyplot as plt\n",
    "\n",
    "from pckgConOpt import tuttestfunctions as ttf\n",
    "from pckgConOpt import o1,o2,o3,o4\n"
   ]
  },
  {
   "cell_type": "code",
   "execution_count": 3,
   "id": "9807b545-42c7-4221-ab32-b396a9ce6aa4",
   "metadata": {},
   "outputs": [
    {
     "ename": "ValueError",
     "evalue": "not enough values to unpack (expected 9, got 8)",
     "output_type": "error",
     "traceback": [
      "\u001b[1;31m---------------------------------------------------------------------------\u001b[0m",
      "\u001b[1;31mValueError\u001b[0m                                Traceback (most recent call last)",
      "Cell \u001b[1;32mIn[3], line 39\u001b[0m\n\u001b[0;32m     37\u001b[0m \u001b[38;5;66;03m# run MA-ES\u001b[39;00m\n\u001b[0;32m     38\u001b[0m out \u001b[38;5;241m=\u001b[39m epsMAgES(mu,lam,sigma,lower_bounds,upper_bounds,delta,maxIter,budget,max_reps,objFun)\n\u001b[1;32m---> 39\u001b[0m gb_y, gb_fv, best_cv, dyn_fit, dyn_cv, dyn_sig, dyn_ynorm, dyn_gen, dyn_fev \u001b[38;5;241m=\u001b[39m out\n\u001b[0;32m     41\u001b[0m \u001b[38;5;66;03m# print main results\u001b[39;00m\n\u001b[0;32m     42\u001b[0m \u001b[38;5;28mprint\u001b[39m(\u001b[38;5;124m'\u001b[39m\u001b[38;5;124mobjective function: \u001b[39m\u001b[38;5;132;01m{0}\u001b[39;00m\u001b[38;5;124m'\u001b[39m\u001b[38;5;241m.\u001b[39mformat(objFun\u001b[38;5;241m.\u001b[39m\u001b[38;5;18m__name__\u001b[39m))\n",
      "\u001b[1;31mValueError\u001b[0m: not enough values to unpack (expected 9, got 8)"
     ]
    }
   ],
   "source": [
    "### define parameters\n",
    "\n",
    "# seed random number generator\n",
    "default_rng = np.random.default_rng(123456)\n",
    "\n",
    "# problem dimension\n",
    "d = 10\n",
    "\n",
    "# population parameters\n",
    "mu = 3\n",
    "lam = 10\n",
    "sigma = 1.\n",
    "\n",
    "# run parameters\n",
    "maxIter = 10**3\n",
    "budget = maxIter*lam\n",
    "delta = 10**(-4)\n",
    "max_reps = 3\n",
    "\n",
    "\n",
    "# problems\n",
    "for objFun in [ttf.cop1, ttf.cop2, ttf.cop3, ttf.cop4, ttf.cop5]:\n",
    "    if objFun == ttf.cop3:\n",
    "        lower_bounds = -20*np.ones(shape=(d,))\n",
    "        upper_bounds = 20*np.ones(shape=(d,))\n",
    "    elif objFun == ttf.cop5:\n",
    "        d = 7\n",
    "        lower_bounds = np.array([2.6, 0.7, 17, 7.3, 7.3, 2.9, 5])\n",
    "        upper_bounds = np.array([3.6, 0.8, 28, 8.3, 8.3, 3.9, 5.5])\n",
    "    else:\n",
    "        lower_bounds = -100*np.ones(shape=(d,))\n",
    "        upper_bounds = 100*np.ones(shape=(d,))\n",
    "\n",
    "    # random initial point\n",
    "    x_init = lower_bounds + (upper_bounds - lower_bounds)*default_rng.uniform(size=(d,))\n",
    "\n",
    "    # run MA-ES\n",
    "    out = epsMAgES(mu,lam,sigma,lower_bounds,upper_bounds,delta,maxIter,budget,max_reps,objFun)\n",
    "    gb_y, gb_fv, best_cv, dyn_fit, dyn_cv, dyn_sig, dyn_ynorm, dyn_gen, dyn_fev = out\n",
    "\n",
    "    # print main results\n",
    "    print('objective function: {0}'.format(objFun.__name__))\n",
    "    print('best fitness: {0:.4g}'.format(gb_fv))\n",
    "    print('best constraint violation: {0:.4g}'.format(best_cv))\n",
    "    \n",
    "    print('number of function evaluations: {0:d}'.format(dyn_fev[-1]))\n",
    "    \n",
    "    # visualize single run statistics\n",
    "    fig, axs = plt.subplots(1,3,figsize=(15,4))\n",
    "    \n",
    "    cax = axs[0]\n",
    "    sea.scatterplot(x=dyn_gen, y = dyn_fit, legend='full', ax=cax)\n",
    "    cax.set_xscale('log')\n",
    "    #cax.set_yscale('log')\n",
    "    cax.set_title('Fitness')\n",
    "    \n",
    "    cax = axs[1]\n",
    "    sea.scatterplot(x=dyn_gen, y = dyn_cv, legend='full', ax=cax)\n",
    "    cax.set_xscale('log')\n",
    "    cax.set_yscale('log')\n",
    "    cax.set_title('Constraint Violation')\n",
    "    \n",
    "    cax = axs[2]\n",
    "    sea.scatterplot(x=dyn_gen, y = dyn_sig, legend='full', ax=cax)\n",
    "    cax.set_xscale('log')\n",
    "    cax.set_yscale('log')\n",
    "    cax.set_title('Mutation Strength')\n",
    "\n",
    "    fig.suptitle(objFun.__name__)\n",
    "    plt.show()"
   ]
  },
  {
   "cell_type": "code",
   "execution_count": null,
   "id": "50875f71-be1f-4d30-a485-3ece138fae95",
   "metadata": {},
   "outputs": [],
   "source": []
  }
 ],
 "metadata": {
  "kernelspec": {
   "display_name": "Python 3 (ipykernel)",
   "language": "python",
   "name": "python3"
  },
  "language_info": {
   "codemirror_mode": {
    "name": "ipython",
    "version": 3
   },
   "file_extension": ".py",
   "mimetype": "text/x-python",
   "name": "python",
   "nbconvert_exporter": "python",
   "pygments_lexer": "ipython3",
   "version": "3.12.4"
  }
 },
 "nbformat": 4,
 "nbformat_minor": 5
}
