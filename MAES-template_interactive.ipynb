{
 "cells": [
  {
   "attachments": {},
   "cell_type": "markdown",
   "id": "174cefec",
   "metadata": {},
   "source": [
    "# MA-ES Template"
   ]
  },
  {
   "attachments": {},
   "cell_type": "markdown",
   "id": "20dda510",
   "metadata": {},
   "source": [
    "## Imports"
   ]
  },
  {
   "cell_type": "code",
   "execution_count": 1,
   "id": "c8bfe462-46c2-4fcf-921c-5f252a14cf14",
   "metadata": {},
   "outputs": [],
   "source": [
    "from pckgConOpt.maes import MAES, epsMAgES, keep_range, repair, eps_rnk, lex_rnk\n",
    "import numpy as np\n",
    "import seaborn as sea\n",
    "import matplotlib.pyplot as plt\n",
    "from ipywidgets import interact, widgets, interact_manual\n",
    "from pckgConOpt import tuttestfunctions as ttf\n",
    "from pckgConOpt import o1,o2,o3,o4"
   ]
  },
  {
   "cell_type": "code",
   "execution_count": null,
   "id": "f3dfad4d-21e8-48dc-813d-44b2e312a7fc",
   "metadata": {},
   "outputs": [],
   "source": []
  },
  {
   "attachments": {},
   "cell_type": "markdown",
   "id": "0b6a072f",
   "metadata": {},
   "source": [
    "## Helper methods"
   ]
  },
  {
   "cell_type": "code",
   "execution_count": 2,
   "id": "65db2473",
   "metadata": {},
   "outputs": [],
   "source": [
    "# no bound constraint handling\n",
    "def noboundhand(y,lb, ub):\n",
    "    return y\n",
    "\n",
    "def norepair(y,max_reps,fevals,gv,hv,convio,objFun,lower_bounds,upper_bounds,delt,dim,g):\n",
    "    return y\n",
    "\n",
    "def fit_rnk(newpop_f,newpop_cv,eps):\n",
    "    return np.argsort(newpop_f)"
   ]
  },
  {
   "cell_type": "code",
   "execution_count": 3,
   "id": "c055ef0a",
   "metadata": {},
   "outputs": [],
   "source": [
    "def print_results(name, gb_fv, dyn_cv, dyn_fev):\n",
    "    print('objective function: {0}'.format(name))\n",
    "    print('best fitness: {0:.4g}'.format(gb_fv))\n",
    "    print('best constraint violation: {0:.4g}'.format(dyn_cv[-1]))\n",
    "    print('number of function evaluations: {0:d}'.format(dyn_fev[-1]))"
   ]
  },
  {
   "cell_type": "code",
   "execution_count": 4,
   "id": "4884a2e7",
   "metadata": {},
   "outputs": [],
   "source": [
    "def visualize_single_run_statistics(dyn_gen, dyn_fit, dyn_cv, dyn_sig, name):\n",
    "    # visualize single run statistics\n",
    "    fig, axs = plt.subplots(1,3,figsize=(15,4))\n",
    "    \n",
    "    cax = axs[0]\n",
    "    sea.scatterplot(x=dyn_gen, y = dyn_fit, legend='full', ax=cax)\n",
    "    cax.set_xscale('log')\n",
    "    #cax.set_yscale('log')\n",
    "    cax.set_title('Fitness')\n",
    "    \n",
    "    cax = axs[1]\n",
    "    sea.scatterplot(x=dyn_gen, y = dyn_cv, legend='full', ax=cax)\n",
    "    cax.set_xscale('log')\n",
    "    cax.set_yscale('log')\n",
    "    cax.set_title('Constraint Violation')\n",
    "    \n",
    "    cax = axs[2]\n",
    "    sea.scatterplot(x=dyn_gen, y = dyn_sig, legend='full', ax=cax)\n",
    "    cax.set_xscale('log')\n",
    "    cax.set_yscale('log')\n",
    "    cax.set_title('Mutation Strength')\n",
    "\n",
    "    fig.suptitle(name)\n",
    "    plt.show()"
   ]
  },
  {
   "cell_type": "code",
   "execution_count": 5,
   "id": "7833e9ba",
   "metadata": {},
   "outputs": [],
   "source": [
    "def set_bounds(objFun, d):\n",
    "    if objFun == ttf.cop3:\n",
    "        lower_bounds = -20*np.ones(shape=(d,))\n",
    "        upper_bounds = 20*np.ones(shape=(d,))\n",
    "    elif objFun == ttf.cop5:\n",
    "        lower_bounds = np.array([2.6, 0.7, 17, 7.3, 7.3, 2.9, 5])\n",
    "        upper_bounds = np.array([3.6, 0.8, 28, 8.3, 8.3, 3.9, 5.5])\n",
    "    else:\n",
    "        lower_bounds = -100*np.ones(shape=(d,))\n",
    "        upper_bounds = 100*np.ones(shape=(d,))\n",
    "    \n",
    "    return lower_bounds, upper_bounds"
   ]
  },
  {
   "attachments": {},
   "cell_type": "markdown",
   "id": "4c603a66",
   "metadata": {},
   "source": [
    "## Parameters\n",
    "\n",
    "There are different **Constrained Optimization Problems (COP)** available (1-5)\n",
    "- COP 1: ... \n",
    "- COP 2: ...\n",
    "- COP 3: ...\n",
    "- COP 4: ...\n",
    "- COP 5: ...\n",
    "\n",
    "#### Problem Dimension (d)\n",
    "... \n",
    "\n",
    "#### Population Parameters \n",
    "- mu: ..\n",
    "- lam: ..\n",
    "- sigma: ..\n",
    "\n",
    "#### Bound Constraint Handling (bch)\n",
    "- No Bound Constraint Handling: ...\n",
    "- Keep Range: ...\n",
    "\n",
    "#### Gradient based Repair (rep)\n",
    "- No Repair: ...\n",
    "- Gradient based Repair: ..."
   ]
  },
  {
   "cell_type": "code",
   "execution_count": 11,
   "id": "9807b545-42c7-4221-ab32-b396a9ce6aa4",
   "metadata": {},
   "outputs": [],
   "source": [
    "def run(d, mu, lam, sigma, problem, bch,rep,rnk):   \n",
    "    # seed random number generator\n",
    "    default_rng = np.random.default_rng(123345)\n",
    "\n",
    "    # run parameters\n",
    "    maxIter = 10**3\n",
    "    budget = maxIter*lam\n",
    "\n",
    "    if problem == 'All':\n",
    "        functions = [ttf.cop1, ttf.cop2, ttf.cop3, ttf.cop4, ttf.cop5]\n",
    "    elif problem == 'Cop1': \n",
    "        functions = [ttf.cop1]\n",
    "    elif problem == 'Cop2':\n",
    "        functions = [ttf.cop2]\n",
    "    elif problem == 'Cop3':\n",
    "        functions = [ttf.cop3]\n",
    "    elif problem == 'Cop4':\n",
    "        functions = [ttf.cop4]\n",
    "    elif problem == 'Cop5':\n",
    "        d = 7\n",
    "        functions = [ttf.cop5]\n",
    "\n",
    "    if bch == \"Keep Range\":\n",
    "        bch= keep_range\n",
    "    else: \n",
    "        bch = noboundhand\n",
    "\n",
    "    if rep == \"Repair\":\n",
    "        rep = repair\n",
    "    else: \n",
    "        rep = norepair\n",
    "\n",
    "    if rnk == \"Eps\":\n",
    "        rnk = eps_rnk\n",
    "    elif rnk == \"Lex\":\n",
    "        rnk = lex_rnk\n",
    "    else: \n",
    "        rnk = fit_rnk\n",
    "        \n",
    "    # problems\n",
    "    for objFun in functions:\n",
    "        lower_bounds, upper_bounds = set_bounds(objFun, d)\n",
    "\n",
    "        # random initial point\n",
    "        x_init = lower_bounds + (upper_bounds - lower_bounds)*default_rng.uniform(size=(d,))\n",
    "\n",
    "        # run MA-ES\n",
    "        out = MAES(x_init,mu,lam,sigma,maxIter,budget, objFun, lower_bounds, upper_bounds, bch, rep, rnk)\n",
    "        gb_y, gb_fv, dyn_gen, dyn_fev, dyn_fit, dyn_cv,  dyn_sig, dyn_ynorm = out\n",
    "\n",
    "        print_results(objFun.__name__, gb_fv, dyn_cv, dyn_fev)\n",
    "        visualize_single_run_statistics(dyn_gen, dyn_fit, dyn_cv, dyn_sig, objFun.__name__)"
   ]
  },
  {
   "cell_type": "code",
   "execution_count": 12,
   "id": "4ccdd1dc",
   "metadata": {},
   "outputs": [
    {
     "data": {
      "application/vnd.jupyter.widget-view+json": {
       "model_id": "aaaf6f0a45e84a7f9ac0415ef6f46df6",
       "version_major": 2,
       "version_minor": 0
      },
      "text/plain": [
       "interactive(children=(IntSlider(value=10, description='d', max=30), IntSlider(value=3, description='μ', max=10…"
      ]
     },
     "metadata": {},
     "output_type": "display_data"
    },
    {
     "data": {
      "text/plain": [
       "<function __main__.run(d, mu, lam, sigma, problem, bch, rep, rnk)>"
      ]
     },
     "execution_count": 12,
     "metadata": {},
     "output_type": "execute_result"
    }
   ],
   "source": [
    "align_kw = {\n",
    "    #\"style\": {\"description_width\": \"400px\"},  \n",
    "    #\"layout\": widgets.Layout(width=\"500px\")\n",
    "}\n",
    "\n",
    "im = interact_manual.options(manual_name = \"Calculate\")\n",
    "\n",
    "im(run, \n",
    "         d = widgets.IntSlider(min = 0, max = 30, value = 10, **align_kw),\n",
    "         mu = widgets.IntSlider(min = 0, max = 10, value = 3, description = \"μ\", **align_kw),\n",
    "         lam = widgets.IntSlider(min = 0, max = 30, value = 10, description = \"λ\", **align_kw),\n",
    "         sigma = widgets.FloatSlider(min = 0., max = 2., value = 1., description = \"σ\", **align_kw),\n",
    "         problem = widgets.Dropdown(options = ['Cop1', 'Cop2', 'Cop3', 'Cop4', 'Cop5', 'All'], description = \"Problem\", **align_kw),\n",
    "         rnk = widgets.Dropdown(options = ['Fitness','Lex','Eps'], description = \"RNK\", **align_kw),\n",
    "         bch = widgets.Dropdown(options = ['None','Keep Range'], description = \"BCH\", **align_kw),\n",
    "         rep = widgets.Dropdown(options = ['None','Repair'], description = \"REP\", **align_kw)\n",
    "         )"
   ]
  },
  {
   "cell_type": "code",
   "execution_count": null,
   "id": "275cb9e9",
   "metadata": {},
   "outputs": [],
   "source": []
  },
  {
   "cell_type": "code",
   "execution_count": null,
   "id": "5d6ed63e-a96c-4488-8d32-85c6fac4f660",
   "metadata": {},
   "outputs": [],
   "source": []
  },
  {
   "cell_type": "code",
   "execution_count": null,
   "id": "f60cdba4-b166-4c9f-9503-2d232682484f",
   "metadata": {},
   "outputs": [],
   "source": []
  }
 ],
 "metadata": {
  "kernelspec": {
   "display_name": "Python 3 (ipykernel)",
   "language": "python",
   "name": "python3"
  },
  "language_info": {
   "codemirror_mode": {
    "name": "ipython",
    "version": 3
   },
   "file_extension": ".py",
   "mimetype": "text/x-python",
   "name": "python",
   "nbconvert_exporter": "python",
   "pygments_lexer": "ipython3",
   "version": "3.9.19"
  }
 },
 "nbformat": 4,
 "nbformat_minor": 5
}
