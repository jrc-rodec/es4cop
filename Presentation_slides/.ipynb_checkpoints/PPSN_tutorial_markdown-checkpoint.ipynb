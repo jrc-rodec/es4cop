{
 "cells": [
  {
   "cell_type": "markdown",
   "id": "d9b06b2c",
   "metadata": {
    "editable": true,
    "slideshow": {
     "slide_type": "slide"
    },
    "tags": []
   },
   "source": [
    "<figure>\n",
    "    <img src=\"images/FHVlogo.png\" align=\"right\" style=\"display: block; margin: auto;\" width=30%>\n",
    "</figure>\n",
    "<br>\n",
    "  \n",
    "<h1>Introduction to Evolution Strategies for  Constrained Optimization Problems </h1>\n",
    "<br>  \n",
    "<p style=\"text-align:center;font-size: 18pt\">Michael Hellwig, Steffen Finck, and Hans-Georg Beyer</p>\n",
    "<p style=\"text-align:center;font-size: 16pt\">Josef Ressel Centre for Robust Decision Making, Vorarlberg University of Applied Sciences, Dornbirn, Austria.</p>\n",
    "\n",
    "<br>\n",
    "<figure>\n",
    "    <img src=\"images/CDGlogo.png\" align=\"right\" class=\"center\" width=25%>\n",
    "    <figcaption>The financial support by the Austrian Federal Ministry of Labour and Economy, the National Foundation for Research, Technology and Development and by the Christian Doppler Research Association is gratefully acknowledged.\n",
    "    </figcaption>\n",
    "</figure>  \n",
    "\n",
    "<br><br>\n",
    "\n",
    " "
   ]
  },
  {
   "cell_type": "markdown",
   "id": "a9879965-b2d9-40b6-a9fa-a7163204ce0e",
   "metadata": {
    "editable": true,
    "slideshow": {
     "slide_type": "slide"
    },
    "tags": []
   },
   "source": [
    "### Organizers of this tutorial\n",
    "| Michael Hellwig      | Steffen Finck | Hans-Georg Beyer |\n",
    "| -------------------- | ------------- | ---------------- | \n",
    "| <img src=\"images/hemi.png\" align=\"center\" class=\"center\" width=70%>       |    <img src=\"images/fst.png\" align=\"center\" class=\"center\" width=70%>       |        <img src=\"images/hgb.png\" align=\"center\" class=\"center\" width=70%>  |\n",
    "| <ul><li>Senior Scientist and Director of the JR-Centre for Robust Decision Making </li><li>Web profile: [Dr. Michael Hellwig](https://www.fhv.at/mitarbeiter/dr-rer-nat-michael-hellwig-13374)</li><li>Email: [michael.hellwig@fhv.at]</li></ul> | <ul><li>Lecturer and Senior Scientist at the Vorarlberg University of Applied Sciences </li><li>Web profile: [Dr. Steffen Finck](https://www.fhv.at/mitarbeiter/dr-ing-steffen-finck-13251)</li><li>Email: [steffen.finck@fhv.at]</li></ul> | <ul><li>Research Professor at the Research Centre Business Informatics</li><li>Web profile: [Prof. Hans-Georg Beyer](https://www.fhv.at/mitarbeiter/prof-fh-dipl-ing-dr-rer-nat-habil-hans-georg-beyer-13253)</li><li>Email: [hans-georg.beyer@fhv.at]</li></ul>|"
   ]
  },
  {
   "cell_type": "markdown",
   "id": "195c129d",
   "metadata": {
    "editable": true,
    "slideshow": {
     "slide_type": "slide"
    },
    "tags": []
   },
   "source": [
    "## Content of this tutorial\n",
    "- Introduction to Evolution Strategies and Constrained Optimization\n",
    "    - Tutorial motivation\n",
    "    - A general continuous single-objective constrained optimization problem (COP)\n",
    "    - The Matrix Adaptation Evolution Strategy (MA-ES)\n",
    "    - Brief overview of constrained benchmarks\n",
    "- Treatment of constraints\n",
    "    - Constraint handling techniques\n",
    "        - Penalty approaches\n",
    "        - Augmented Lagragian methods\n",
    "        - Repair techniques\n",
    "        - Constraint relaxation  \n",
    "    - Comparisons on two simple test COPs\n",
    "        - Demo of experiments\n",
    "- Interactive Session & Roundup \n",
    "    - Download / Setup\n",
    "    - Hands-on application of several techniques\n",
    "- Session round-up\n",
    "    - Successful ES in constrained environments"
   ]
  },
  {
   "cell_type": "markdown",
   "id": "b2c338c1",
   "metadata": {
    "editable": true,
    "jp-MarkdownHeadingCollapsed": true,
    "slideshow": {
     "slide_type": "slide"
    },
    "tags": []
   },
   "source": [
    "<h3 style=\"text-align:left;\">Motivation</h3>\n",
    " \n",
    "<ul style=\"font-size: 16pt;\">    \n",
    "    <li>Evolution Strategies (ES) build a subclass of Evolutionary Algorithms (EA).</li> <br>\n",
    "    <li>ES are state-of-the-art for <strong>unconstrained black-box optimization</strong>.</li>\n",
    "    <ul>    \n",
    "    <li>CMA-ES by <a href=\"https://doi.org/10.1162/106365601750190398\">N. Hansen and A. Ostermeier, 2001</a></li>\n",
    "    <li>CMSA-ES by <a href=\"https://doi.org/10.1007/978-3-540-87700-4_13\">H.-G. Beyer and B. Sendhoff</emph>, 2008</a></li>\n",
    "    <li>MA-ES by <a href=\"https://doi.org/10.1109/TEVC.2017.2680320\">H.-G. Beyer and B. Sendhoff</emph>, 2017</a></li>\n",
    "    </ul><br>\n",
    "    <li>Utilizing constraint handling techniques, ES show the ability to <strong>successfully deal with constrained problems</strong>.</li>\n",
    "    <ul>\n",
    "    <li> Step-size adapative ES by <a href=\"https://doi.org/10.1145/3040718.3040732\">A. Atama, A. Auger and  N. Hansen, 2017</a> </li>\n",
    "    <li> $\\epsilon$MAg-ES by <a href=\"https://dx.doi.org/10.1109/CEC.2018.8477950\">M. Hellwig and H.-G. Beyer, 2018</a> </li>\n",
    "    <li> MA-ES on General Quadratic Manifolds by <a href=\"https://doi.org/10.1145/3551394\">P. Spettel and H.G. Beyer, 2022</a>  </li>\n",
    "    <li> dAL-ES by <a href=\"https://doi.org/10.1145/3638529.3654012\">J. Porter and D. V. Arnold, 2024</a>  </li>\n",
    "    </ul>\n",
    "    <br>\n",
    "    <li><strong>Goals of this tutorial</strong></li>\n",
    "     <ul>    \n",
    "    <li>Provide an <strong>overview</strong> of the problem domain</li>\n",
    "    <li>Motivation to <strong>apply ES</strong> to constrained problems</li>\n",
    "         <ul> <li> domain for a long time dominated by DEs</li></ul>\n",
    "         <li>Demonstrate the <strong>benefits of ES</strong> in COP environments</li>\n",
    "    </ul>\n",
    " </ul>"
   ]
  },
  {
   "attachments": {},
   "cell_type": "markdown",
   "id": "1402f751-b965-4b6d-950b-997515aa34d3",
   "metadata": {
    "editable": true,
    "slideshow": {
     "slide_type": "subslide"
    },
    "tags": []
   },
   "source": [
    "### A general continuous single-objective constrained optimization problem (COP)\n",
    "\n",
    "<br><br>\n",
    "\n",
    "$$\n",
    "\\begin{equation}\n",
    " \\begin{aligned}\n",
    "   \\min \\:\\: & f(\\mathbf{y})  & & \\qquad \\gets \\quad \\textrm{objective function}\\\\\n",
    "    s.t. \\:\\: & g_i(\\mathbf{y}) \\leq 0,  & i=1,\\dots,l,\\: & \\qquad\\gets \\quad \\textrm{inequality constraints}\\\\\n",
    "     & h_j(\\mathbf{y}) = 0,     & j=1,\\dots,k, & \\qquad\\gets \\quad \\textrm{equality constraints}\\\\\n",
    "     & \\mathbf{y} \\in S = \\left[\\check{\\mathbf{y}},\\hat{\\mathbf{y}}\\right]\\subseteq \\mathbb{R}^N. & & \\qquad\\gets \\quad \\textrm{box constraints}\n",
    "  \\end{aligned}\n",
    "\\end{equation} \n",
    "$$\n",
    "\n",
    "<br><br>\n",
    "\n",
    "- The continuous (non-)linear objective function is given by $f : \\mathbb{R}^N \\to \\mathbb{R}$.  \n",
    "- $\\mathbf{y} \\in \\mathbb{R}^N$ represents the $N$-dimensional real-valued parameter vector. \n",
    "- The total number of (non-)linear constraint functions is $m=k+l$. \n",
    "- The box constraints represent lower ($\\check{\\mathbf{y}}$) and upper bounds ($\\hat{\\mathbf{y}}$) on the parameter vector components. \n"
   ]
  },
  {
   "cell_type": "markdown",
   "id": "dd52d2c6-a284-408a-9e1c-076c2892a08e",
   "metadata": {
    "editable": true,
    "slideshow": {
     "slide_type": "subslide"
    },
    "tags": []
   },
   "source": [
    "<html>\n",
    "<body>\n",
    "    <h3>2-D examples of contraint types</h3>\n",
    "    <br>\n",
    "    <p> A single <strong> linear inequality </strong> visualized in a 2-dimensional search space $\\mathbb{R^2}$. </p>\n",
    "    \n",
    "<img src=\"images/test-lin-ineq_t.png\" align=\"right\" class=\"center\" width=45%>\n",
    "    \n",
    " </body>\n",
    "</html>"
   ]
  },
  {
   "cell_type": "markdown",
   "id": "5d0a1459",
   "metadata": {
    "editable": true,
    "slideshow": {
     "slide_type": "subslide"
    },
    "tags": []
   },
   "source": [
    "<html>\n",
    "<body>\n",
    "    <h3>2-D examples of contraint types</h3>\n",
    "    <br>\n",
    "    <p> A single <strong> non-linear inequality </strong> visualized in a 2-dimensional search space $\\mathbb{R^2}$. </p>\n",
    "    \n",
    "<img src=\"images/test-nonlin-ineq_t.png\" align=\"right\" class=\"center\" width=45%>\n",
    "    \n",
    " </body>\n",
    "</html>"
   ]
  },
  {
   "cell_type": "markdown",
   "id": "b253b193",
   "metadata": {
    "editable": true,
    "slideshow": {
     "slide_type": "subslide"
    },
    "tags": []
   },
   "source": [
    "<html>\n",
    "<body>\n",
    "    <h3>2-D examples of contraint types</h3>\n",
    "    <br>\n",
    "    <p> A single <strong> non-linear equality </strong> visualized in a 2-dimensional search space $\\mathbb{R^2}$. </p>\n",
    "    \n",
    "<img src=\"images/test-nonlin-eq_t.png\" align=\"right\" class=\"center\" width=45%>\n",
    "    \n",
    " </body>\n",
    "</html>"
   ]
  },
  {
   "cell_type": "markdown",
   "id": "c3a9a755",
   "metadata": {
    "slideshow": {
     "slide_type": "subslide"
    }
   },
   "source": [
    "<html>\n",
    "<body>\n",
    "    <h3>2-D examples of contraint types</h3>\n",
    "    <br>\n",
    "    <p> Combination of <strong> linear inequality </strong> and <strong> non-linear equality constraint </strong>. </p>\n",
    "    \n",
    "<img src=\"images/test-combi_t.png\" align=\"right\" class=\"center\" width=45%>\n",
    "    \n",
    " </body>\n",
    "</html>"
   ]
  },
  {
   "cell_type": "markdown",
   "id": "8f1dd965",
   "metadata": {
    "slideshow": {
     "slide_type": "slide"
    }
   },
   "source": [
    "<h3>The Matrix Adaptation Evolution Strategy (MA-ES)</h3>\n",
    "\n",
    "- introduced by ([H.-G. Beyer and B. Sendhoff, 2017](https://doi.org/10.1109/TEVC.2017.2680320))\n",
    "- represents a simplification of the CMA-ES ([Hansen and Ostermeier, 2001](https://doi.org/10.1162/106365601750190398))\n",
    "    - avoids the construction of the covariance matrix $C$\n",
    "    - instead uses a transformation matrix $M$ (representing $\\sqrt{C}$)\n",
    "    - spares the need for spectral or Cholesky decomposition\n",
    "    - uses a single search path for the mutation strength $\\sigma$ as well as the $M$ update\n",
    "    - reduces the complexity of code and the number of strategy parameters\n",
    "    \n",
    "- exhibits a performance similar to CMA-ES on most test problems\n",
    "    - assessed on 8 classic test function and on the [BBOB test bed](https://numbbo.github.io/coco/testsuites/bbob)\n",
    "    \n",
    "- builds the core search driver of the proposed strategy for solving (COP)."
   ]
  },
  {
   "cell_type": "markdown",
   "id": "c254dbe6",
   "metadata": {
    "slideshow": {
     "slide_type": "subslide"
    }
   },
   "source": [
    " <h3>The Matrix Adaptation Evolution Strategy (MA-ES)</h3>\n",
    "\n",
    "<img src=\"images/MAES01.png\" align=\"left\" class=\"center\" width=75%>"
   ]
  },
  {
   "cell_type": "markdown",
   "id": "c8b7522b",
   "metadata": {
    "slideshow": {
     "slide_type": "subslide"
    }
   },
   "source": [
    " <h3>The Matrix Adaptation Evolution Strategy (MA-ES)</h3>\n",
    "\n",
    "<img src=\"images/MAES02.png\" align=\"left\" class=\"center\" width=75%>\n"
   ]
  },
  {
   "cell_type": "markdown",
   "id": "70960103",
   "metadata": {
    "slideshow": {
     "slide_type": "subslide"
    }
   },
   "source": [
    " <h3>The Matrix Adaptation Evolution Strategy (MA-ES)</h3>\n",
    "\n",
    "<img src=\"images/MAES03.png\" align=\"left\" class=\"center\" width=75%>"
   ]
  },
  {
   "cell_type": "markdown",
   "id": "1965d9f3",
   "metadata": {
    "slideshow": {
     "slide_type": "subslide"
    }
   },
   "source": [
    " <h3>The Matrix Adaptation Evolution Strategy (MA-ES)</h3>\n",
    "\n",
    "<img src=\"images/MAES04.png\" align=\"left\" class=\"center\" width=75%>"
   ]
  },
  {
   "cell_type": "markdown",
   "id": "3e2c62f9",
   "metadata": {
    "slideshow": {
     "slide_type": "subslide"
    }
   },
   "source": [
    "<h3>The Matrix Adaptation Evolution Strategy (MA-ES)</h3>\n",
    "\n",
    "<img src=\"images/MAES05.png\" align=\"left\" class=\"center\" width=75%>"
   ]
  },
  {
   "cell_type": "markdown",
   "id": "d34b033d",
   "metadata": {
    "editable": true,
    "slideshow": {
     "slide_type": "subslide"
    },
    "tags": []
   },
   "source": [
    " <h3>The Matrix Adaptation Evolution Strategy (MA-ES)</h3>\n",
    "\n",
    "<img src=\"images/MAES06.png\" align=\"left\" class=\"center\" width=75%>"
   ]
  },
  {
   "cell_type": "markdown",
   "id": "929e8a59",
   "metadata": {
    "editable": true,
    "slideshow": {
     "slide_type": "subslide"
    },
    "tags": []
   },
   "source": [
    " <h3>The Matrix Adaptation Evolution Strategy (MA-ES)</h3>\n",
    "\n",
    "<img src=\"images/MAES07.png\" align=\"left\" class=\"center\" width=75%>"
   ]
  },
  {
   "cell_type": "markdown",
   "id": "823d3aac",
   "metadata": {
    "editable": true,
    "slideshow": {
     "slide_type": "slide"
    },
    "tags": []
   },
   "source": [
    "### Overview of testbeds\n",
    "\n",
    "- **COCO BBOB-constrained**\n",
    "    - [Duffose et al. 2022](https://numbbo.github.io/coco-doc/bbob-constrained) and\n",
    "    - [ numbbo/coco github](https://github.com/numbbo/coco)\n",
    "- **CEC competitions** on single-objective continuous constrained optimization\n",
    "    - (P. N. Suganthan, 2006, 2010, 2017, and 2020) [github of P. N. Suganthan](https://github.com/P-N-Suganthan?tab=repositories)\n",
    "- **The Rotated Klee-Minty Problem**\n",
    "    - (<a href=\"https://doi.org/10.1145/3319619.3326805\"> M. Hellwig and H.-G. Beyer, 2018 </a>)\n",
    "- **Portfolio Optimization**\n",
    "    - [Z. X. Loke et al., 2023 ](https://ieeexplore.ieee.org/abstract/document/10087257)\n",
    "    - [H.-G. Beyer, S. Finck and T. Breuer, 2014](https://doi.org/10.1016/j.swevo.2014.03.002) and\n",
    "    - [H.-G. Beyer and S. Finck, 2012](https://doi.org/10.1109/TEVC.2011.2169967)\n",
    "-  few dedicated python packages like\n",
    "    -  [DEAP](https://deap.readthedocs.io/en/master/index.html)"
   ]
  },
  {
   "cell_type": "markdown",
   "id": "7eaae9d5",
   "metadata": {
    "editable": true,
    "slideshow": {
     "slide_type": "slide"
    },
    "tags": []
   },
   "source": [
    "## 2.\tTreatment of constraints\n",
    "- **Constraint Handling techniques**\n",
    "    - Penalty approaches\n",
    "    - Augmented Lagragian methods\n",
    "    - Repair techniques\n",
    "    - Constraint relaxation approaches\n",
    "\n",
    "- **The $\\epsilon$MAg-ES**\n",
    "    \n",
    "- **Comparison on two simple test COPs**\n",
    "    - Test COPs\n",
    "    - Experimentation \n",
    "\n",
    "\n"
   ]
  },
  {
   "cell_type": "markdown",
   "id": "0f6616d4",
   "metadata": {
    "editable": true,
    "slideshow": {
     "slide_type": "slide"
    },
    "tags": []
   },
   "source": [
    "#### **Constraint Handling techniques**\n",
    "- Bound-constraint handling\n",
    "- Penalty approaches\n",
    "- Augmented Lagragian methods\n",
    "- Repair techniques\n",
    "- Constraint relaxation approaches"
   ]
  },
  {
   "cell_type": "markdown",
   "id": "1391ed3a-1d6f-4cee-b2b9-059690bbadc8",
   "metadata": {
    "editable": true,
    "slideshow": {
     "slide_type": "subslide"
    },
    "tags": []
   },
   "source": [
    "### Bound-constraint handling\n",
    "\n",
    "- Methods that ensure that the ES does not exceed the range of admissible parameter vector values,\n",
    "  e.g. that $\\mathbf{y} \\in S$ holds during the entire search process.\n",
    "\n",
    "- Parameter vectors outside $S$ might\n",
    "    - not be evaluable within the constrained function or \n",
    "    - violate application-related or physical laws\n",
    "\n",
    "- Various techniques for **bound-constraint handling** exist            \n",
    "    - resampling  \n",
    "    - reflection \n",
    "    - projection\n",
    "    - and many more\n",
    "\n",
    "- Competitions to evaluate bound-constraint handling techniques are regularly organized in the context of IEEE CEC\n",
    "    - The success of a specific bound-constraint handling method depends on the COP structure.\n",
    "   \n",
    "\n",
    "      \n",
    "<img src=\"images/bounds01.png\" align=\"left\" class=\"center\" width=20% >\n",
    "\n",
    "\n",
    "\n"
   ]
  },
  {
   "cell_type": "markdown",
   "id": "f8d8f5ab-c462-475a-ba39-998f84f58f7c",
   "metadata": {
    "editable": true,
    "slideshow": {
     "slide_type": "subslide"
    },
    "tags": []
   },
   "source": [
    "### Bound-constraint handling\n",
    "\n",
    "- Further below a specific reflection mechanism will be used\n",
    "\n",
    "    - repairs those components of a candidate solution $\\mathbf{y}$ that exceed the lower and upper problem bounds $\\mathbf{\\check{y}}$ and $\\mathbf{\\hat{y}}$\n",
    "    - each infeasible component of $\\mathbf{y}$ is refelcted  on the boundary of $S$ into the admissible range\n",
    "    - in case of too large deviations, multiples of the interval width are cut off to prevent too large reflections\n",
    "$$ \\begin{equation}\n",
    "\ty_i = \\left\\{ \\begin{matrix}\n",
    "\t\t\t \\check{y}_i + \\left( (\\check{y}_i-y_i) - \\left\\lfloor\\frac{\\check{y}_i-y_i}{\\omega_i}\\right\\rfloor \\omega_i\\right), & \\textrm{if } y_i < \\check{y}_i, \\\\\n",
    "\t\t\t \\hat{y}_i - \\left( (y_i-\\hat{y}_i) - \\left\\lfloor\\frac{y_i-\\hat{y}_i}{\\omega_i}\\right\\rfloor \\omega_i \\right), & \\textrm{if } y_i > \\hat{y}_i,\\\\\n",
    "\t                 y_i , & \\textrm{else},\n",
    "\t                \\end{matrix} \\right.\n",
    "      \\end{equation}\n",
    " $$ \n",
    "-    - with $\\omega_i = (\\hat{y}_i-\\check{y}_i)$ referring to the component-wise distance between $\\mathbf{\\hat{y}}$, and $\\mathbf{\\check{y}}$.\n",
    "\n",
    " \n",
    "- The Figure below illustates the procedure\n",
    "\n",
    " <img src=\"images/bounds02.png\" align=\"left\" class=\"center\" width=50% >\n",
    "\n",
    "\n"
   ]
  },
  {
   "cell_type": "markdown",
   "id": "92f90aee",
   "metadata": {
    "editable": true,
    "slideshow": {
     "slide_type": "subslide"
    },
    "tags": []
   },
   "source": [
    "### Penalty Approaches\n",
    "- *interior* and *exterior* approaches\n",
    "- depend on *constraint violations* $cv$ of inequality constraints $g_i$ and equality constraints $h_i$\n",
    "$$cv(\\mathbf{x}) = \\sum_i r_i \\max[0, g_i(\\mathbf{x})]^\\beta + \\sum_j c_j |h_j(\\mathbf{x})|^\\gamma \\text{ with } \\beta, \\gamma \\ge 1 \\text{ and } r_i, c_j > 0 $$\n",
    "- transform the constrained OP into unconstrained OP (fitness level approach)\n",
    "$$\\tilde{f}(\\mathbf{x}) = f(\\mathbf{x}) + cv(\\mathbf{x})$$\n",
    "- common values: $\\beta=2$ and $\\gamma = 1$\n",
    "- Advantages:\n",
    "    - easy to implement\n",
    "    - wide variety of possible methods\n",
    "    - use of algorithms for unconstrained problems\n",
    "- Drawbacks:\n",
    "    - generalization over different problem classes\n",
    "    - additional parameters (additional tuning efforts)\n",
    "    - change of problem structure (increase in ill-conditioning due to large penalty values)  "
   ]
  },
  {
   "cell_type": "markdown",
   "id": "7f85df63-bdab-4613-bf57-00dbac77f77c",
   "metadata": {
    "editable": true,
    "slideshow": {
     "slide_type": "subslide"
    },
    "tags": []
   },
   "source": [
    "**Penalty Approaches**\n",
    "- *Death Penalty*\n",
    "    - sample new solution until **only** feasible are in the population\n",
    "    - easy to implement\n",
    "    - high sampling effort and premature stagnation\n",
    "- *Static Penalty*:\n",
    "    - uses constant values $r_i$ and $c_j$ in constraint violation measures\n",
    "    - sensitivity in regions close to the feasible border  \n",
    "- *Dynamic Penalty*:\n",
    "    - often related with the generation number (like a cooling schedule)\n",
    "    - from small values (*soft penalties*) to larger values (*hard penalties*) to allow exploration at the start and focus on exploitation at the end  \n",
    "- *Adaptive Penalty*:\n",
    "    - use of fitness values\n",
    "    - aiming for balance between feasible and infeasible solutions\n",
    "    - correlation between feedback from population and optimization progress\n",
    "- survey papers: [E. Mezura-Montes and C. Coello Coello, 2011](https://doi.org/10.1016/j.swevo.2011.10.001) and [H. J. C. Barbosa, A. C. C. Lemonge and H. S. Bernardino, 2015](https://doi.org/10.1007/978-81-322-2184-5_1)"
   ]
  },
  {
   "cell_type": "markdown",
   "id": "56a8804c",
   "metadata": {
    "editable": true,
    "slideshow": {
     "slide_type": "subslide"
    },
    "tags": []
   },
   "source": [
    "### Augmented Lagragian methods\n",
    "\n",
    "- Idea: use of Lagrangian Multiplier $\\gamma$ (Karush-Kuhn-Tucker conditions)\n",
    "$$ \n",
    "\\begin{equation}  \n",
    "\\tilde{f}(\\mathbf{x}, \\mathbf{\\gamma}, \\mathbf{\\omega}) = f(\\mathbf{x}) + \\mathbf{\\gamma}^T \\left[\\begin{array} \\mathbf{g}(\\mathbf{x}) \\\\ \\mathbf{h}(\\mathbf{x}) \\end{array}\\right]\n",
    "\\end{equation}\n",
    "$$\n",
    "- special form of adaptive penalty\n",
    "- equality constraints are transformed: $$h(\\mathbf{x}) \\rightarrow g(\\mathbf{x}) = |h(\\mathbf{x})| - \\epsilon \\le 0$$  or $$h(\\mathbf{x}) \\rightarrow g_1(\\mathbf{x}) = h(\\mathbf{x}) \\le 0 \\text{ and } g_2(\\mathbf{x}) = -h(\\mathbf{x}) \\le 0$$\n",
    "- augmented objective function: $$ \\tilde{f}(\\mathbf{x}, \\mathbf{\\gamma}, \\mathbf{\\omega}) = f(\\mathbf{x}) + \\sum_i\\begin{cases} \\gamma_i g_i(\\mathbf{x}) + \\dfrac{\\omega_i}{2}g_i(\\mathbf{x})^2 \\text{ if } \\gamma_i + \\omega_i g_i(\\mathbf{x}) \\ge 0 \\\\ -\\dfrac{\\gamma_i^2}{2 \\omega_i} \\end{cases} \\text{ with } \\gamma_i, \\omega_i > 0$$\n",
    "- necessary conditions for $\\gamma_i, \\omega_i$ exist, such that the global optimum of the COP is a local optimum of $\\tilde{f}(\\mathbf{x}, \\mathbf{\\gamma}, \\mathbf{\\omega})$\n",
    "- problem is generally well-conditioned if $\\omega_i$ is small (linear convergence for linearly constrained problems with step-size adapative ES [A. Atama, A. Auger and  N. Hansen, 2017](https://doi.org/10.1145/3040718.3040732)\n",
    "- aim: add adaptive methods to converge towards correct Lagrangian multiplier $\\gamma_i$"
   ]
  },
  {
   "cell_type": "markdown",
   "id": "4fd052e4-1f2e-40ee-9c0e-e565fe946680",
   "metadata": {
    "editable": true,
    "slideshow": {
     "slide_type": "subslide"
    },
    "tags": []
   },
   "source": [
    "### Augmented Lagragian methods\n",
    "pseudocode of Method 1 of AL-CMA-ES by [P. Dufosse and N. Hansen, 2021](https://dl.acm.org/doi/10.1145/3449639.3459340)\n",
    "\n",
    "<img src=\"images/method1-alcmaes.png\" align=\"center\" class=\"center\" width=45%>\n",
    "\n",
    "- dAL-ES: Direct Augmented Lagrangian Evolution Strategy\n",
    "    - [J. Porter and D. V. Arnold, 2024](https://doi.org/10.1145/3638529.3654012)\n",
    "    - direct estimation of Lagrange Multipliers via approximation of gradients\n",
    "    - competitive with AL-CMA-ES on several tested problems\n",
    "- survey on AL approaches: [J. Porter, 2022](https://dalspace.library.dal.ca/handle/10222/81935)  "
   ]
  },
  {
   "cell_type": "markdown",
   "id": "84e4a434",
   "metadata": {
    "editable": true,
    "slideshow": {
     "slide_type": "subslide"
    },
    "tags": []
   },
   "source": [
    "### Repair techniques\n",
    "\n",
    "- Aim to correct constraint violations of candidate solutions created during the search\n",
    "\n",
    "    - Approaches may require additional information on the structure of the feasible region\n",
    "      \n",
    "- Various types of repair exist:\n",
    "    - Projection onto the boundary of the feasible region \n",
    "    - Reflection into the feasible region\n",
    "    - Truncation of the mutation step to ensure feasible offspring\n",
    "\n",
    "- Aside from empirical experimentation, there are theoretical findings w.r.t. benefits of certain repair mechanisms under specific assumptions\n",
    "\n",
    "    - e.g., ([M. Hellwig and D. Arnold, 2016](https://doi.org/10.1162/EVCO_a_00139)) show the advantage of linear projection over reflection and truncation mechanisms for the $(1,\\lambda)-ES$ in a simple constrained environment\n",
    "        - only projection is able to ensure continuous progress\n",
    "for arbitrarily small constraint angles\n",
    "\n",
    "<img src=\"images/linProb_res.png\" align=\"left\" class=\"center\" width=50% >\n"
   ]
  },
  {
   "cell_type": "markdown",
   "id": "46c03178-6e4a-4380-999e-6ed36426de5e",
   "metadata": {
    "editable": true,
    "slideshow": {
     "slide_type": "subslide"
    },
    "tags": []
   },
   "source": [
    "### Repair techniques\n",
    "\n",
    "A more general repair technique is the so-called **Gradient-based repair** ([T. Takahama and S. Sakai, 2010](https://doi.org/10.1109/CEC.2010.5586484)).\n",
    "    \n",
    "Consider all $m$ constraint function values at an infeasible $\\mathbf{y} \\notin M$\n",
    "$$ C(\\mathbf{y}) = \\left( g_1(\\mathbf{y}),\\dots,g_l(\\mathbf{y}),h_1(\\mathbf{y}),\\dots,h_k(\\mathbf{y}) \\right)\\top$$\n",
    "\n",
    "and determine the amount of constraint violation in each component as\n",
    "$$ \\Delta C(\\mathbf{y}) = \\left( \\max(0,g_1(\\mathbf{y})),\\dots,\\max(0,g_l(\\mathbf{y})),h_1(\\mathbf{y}),\\dots,h_k(\\mathbf{y}) \\right)\\top$$\n",
    "\n",
    "One can then determine the desired change $\\Delta \\mathbf{y}$ towards a feasible parameter vector $$\\tilde{\\mathbf{y}} = \\mathbf{y} + \\Delta\\mathbf{y} \\in M$$ \n",
    "by linearly expanding the function $C(\\mathbf{y})$. This yields\n",
    "    $$ \\Delta \\mathbf{y} = - {\\nabla C(\\mathbf{y})}^{-1} \\cdot \\Delta C(\\mathbf{y}) $$ with ${\\nabla C(\\mathbf{y})}^{-1}$ being the pseudo-inverse of the Jacobian $\\nabla C(\\mathbf{y}) $ of $C(\\mathbf{y})$."
   ]
  },
  {
   "cell_type": "markdown",
   "id": "abd01189-4daa-423e-b3e2-1fd061b89548",
   "metadata": {
    "editable": true,
    "slideshow": {
     "slide_type": "subslide"
    },
    "tags": []
   },
   "source": [
    "### Gradient-based repair\n",
    "    \n",
    "- The repair mechanism performs a **descending step** on the hyper-surface of all **combined** constraint functions\n",
    "    - This step requires the approximation of the corresponding Jacobian matrix through finite differences\n",
    "    - Depending on the problem dimension the approximation is quite costly in terms of `fevals`\n",
    "    \n",
    "        - Thus it is only performed erraticly (with certain probability, etc.)\n",
    "\n",
    "- The repair step does not ensure to yield a feasible candidate solution directly.\n",
    "\n",
    "    - Yet, by consecutive application **Gradient-based repair** gradually approaches the feasible region $M$\n",
    "\n",
    "<img src=\"images/repair.png\" align=\"left\" class=\"center\" width=50% >"
   ]
  },
  {
   "cell_type": "markdown",
   "id": "4b27a294",
   "metadata": {
    "editable": true,
    "slideshow": {
     "slide_type": "subslide"
    },
    "tags": []
   },
   "source": [
    "#### Constraint relaxation approaches\n",
    "\n",
    "- Such methods dislocate the boundary of the feasible region $M$.\n",
    "\n",
    "    - Previously infeasible parameter vectors are considered (temporarily) feasible during the search.  \n",
    "\n",
    "- Solvers may thus operate outside the original feasible region. \n",
    "\n",
    "- The relaxation is usually gradually sharpened to ultimately guarantee feasibility.\n",
    "\n",
    "<img src=\"images/relax.png\" align=\"left\" class=\"center\" width=50% >"
   ]
  },
  {
   "cell_type": "markdown",
   "id": "91161f9c",
   "metadata": {
    "editable": true,
    "slideshow": {
     "slide_type": "subslide"
    },
    "tags": []
   },
   "source": [
    "### Constraint relaxation approaches\n",
    "\n",
    "A common constrain relaxation technique is **$\\epsilon$-level ordering** [T. Takahama and S. Sakai, 2006](https://doi.org/10.1109/ICSMC.2006.385209)\n",
    "\n",
    "- An initial $\\epsilon^{(0)}$ threshold is determined  (e.g., the average or median constraint violation of the initial population)\n",
    "- Two candidate solutions $y_i, y_j \\in \\mathbb{R}^{N}$ with objective function values $f_i, f_j$ and corresponding constraint violation values $\\nu_i, \\nu_j$ are then compared according to\n",
    "<br>\n",
    "\n",
    "    $$ y_i \\leq_\\epsilon y_j \\quad \\colon\\Leftrightarrow  \\quad \\left\\{ \\begin{matrix} f_i \\leq f_j& \\quad \\textrm{if } \\nu_i \\leq\\epsilon^{(g)} \\: \\& \\: \\nu_j \\leq \\epsilon^{(g)}\\\\f_i \\leq f_j& \\quad \\textrm{if } \\nu_i = \\nu_j  \\\\\\nu_i < \\nu_j &\\quad \\textrm{otherwise } \\end{matrix} \\right.$$\n",
    "\n",
    "   - Two $\\epsilon$-feasible solutions are ranked w.r.t. their objective function values.\n",
    "   - Two $\\epsilon$-infeasible solutions are ordered based on their constraint violations.\n",
    "   - Ties are resolved by considering the objective function values.\n",
    "     \n",
    "  <br>\n",
    "\n",
    "- The $\\epsilon^{(g)}$ threshold is gradually reduced towards zero during the search process.\n",
    "- For $\\epsilon^{(g)} = 0 $ the **$\\epsilon$-level ordering** resembles the **lexicographic ordering** w.r.t. constraint violation and objective function values."
   ]
  },
  {
   "cell_type": "markdown",
   "id": "31667790-427c-4859-8db1-d9f10443e64d",
   "metadata": {
    "editable": true,
    "slideshow": {
     "slide_type": "slide"
    },
    "tags": []
   },
   "source": [
    "## The $\\epsilon$MAg-ES"
   ]
  },
  {
   "cell_type": "markdown",
   "id": "787a43c2-61dd-40c1-90ec-85fcef0ffffa",
   "metadata": {
    "editable": true,
    "jp-MarkdownHeadingCollapsed": true,
    "slideshow": {
     "slide_type": "subslide"
    },
    "tags": []
   },
   "source": [
    "## The $\\epsilon$MAg Evolution Strategy\n",
    "\n",
    "- Represents a possible MA-ES variant for general COPs\n",
    "\n",
    "- Combines MA-ES with three beneficial constraint handling techniques.\n",
    "  \n",
    "- Originally designed for the CEC2017 benchmark functions.\n",
    "    - Demonstrated good performance over all 28 COPs in the CEC competition (particularly for high problem dimensionalities).\n",
    "    - Still, it represents a common reference algorithm for the CEC2017 benchmarks.\n",
    "      \n",
    "\n",
    "- Performance on other benchmark sets like BBOB-constraint may be poorer.\n",
    "    - The specific combination of constraint handling techniques can have negative effects\n",
    "        - $\\epsilon$-level ordering might cause a certain waste of `fevals`\n",
    "        - the bound-constraint handling might miss out on optimizers on the boundary of $M$  \n",
    " "
   ]
  },
  {
   "cell_type": "markdown",
   "id": "f5503c1e-39b4-445e-b234-f7baa498e2be",
   "metadata": {
    "editable": true,
    "slideshow": {
     "slide_type": "subslide"
    },
    "tags": []
   },
   "source": [
    "## The $\\epsilon$MAg Evolution Strategy\n",
    "\n",
    "- applies a number of modifications to successfully treat COPs\n",
    "\n",
    "    1. an order relation that distinguishes feasible and infeasible solutions\n",
    "    2. a box-constraint handling approach\n",
    "    3. an erratically applied repair step (based on gradient approximation)\n",
    "    4. a readjustment step for repaired mutation vectors (due to 2. and 3.)\n",
    "        - selected offspring pass their mutation vector to the $p_\\sigma$ and $\\mathbf{M}$ update\n",
    "        - due to repair the originally sampled mutation vector can introduce wrong information\n",
    "                    $$\\mathbf{d}_l^{(g)} \\gets \\left(\\mathbf{y}_l^{(g)} - \\mathbf{y}^{(g)} \\right) / \\sigma^{(g)} \\qquad \\textrm{and} \\qquad \\mathbf{z}_l^{(g)} = \\mathbf{M}^{-1} \\mathbf{d}_l^{(g)} $$\n",
    "    5. a regularization step for the transformation matrix $\\mathbf{M}$ (due to 4.)\n",
    "        - prevents numerical instabilities when computing the pseudo inverse $\\mathbf{M}^{-1}$ of $\\mathbf{M}$\n",
    "        - workaround: $\\mathbf{M} \\gets\\mathbf{I} $ if  $\\mathbf{M}^{-1}$ fails"
   ]
  },
  {
   "cell_type": "markdown",
   "id": "41b09209-e8d9-4858-9587-f011e3f8ca5b",
   "metadata": {
    "editable": true,
    "slideshow": {
     "slide_type": "subslide"
    },
    "tags": []
   },
   "source": [
    "## The $\\epsilon$MAg Evolution Strategy\n",
    "\n",
    "<img src=\"images/epsMAgES.png\" align=\"center\" class=\"center\" width=40% >"
   ]
  },
  {
   "cell_type": "markdown",
   "id": "e08ada97",
   "metadata": {
    "editable": true,
    "slideshow": {
     "slide_type": "slide"
    },
    "tags": []
   },
   "source": [
    "### Demonstrations on test COPs\n",
    "- Test COPs\n",
    "    - a simple linear constraint\n",
    "    - selected test functions of the CEC 2017 competitions\n",
    "    - real world problems\n",
    "      \n",
    "- Demo experiments"
   ]
  },
  {
   "cell_type": "markdown",
   "id": "e9693b4f-9eb5-49f0-9e12-dc975c7c0f75",
   "metadata": {
    "editable": true,
    "slideshow": {
     "slide_type": "subslide"
    },
    "tags": []
   },
   "source": [
    "### Demonstrations on simple COPs\n",
    "    - Test COPs\n",
    "        - a simple linear constraint\n",
    "\n",
    "$$\n",
    "\\begin{equation}\n",
    " \\begin{aligned}\n",
    "   \\min \\:\\: & f(\\mathbf{y}) = \\sum_{i=1}^{N} \\mathbf{y}_i^2 & & \\gets \\textrm{Sphere function}  \\\\\n",
    "    s.t. \\:\\: & g(\\mathbf{y}) = 25-\\sum_{i=1}^{N} \\mathbf{y}_i \\leq 0,  &   & \\gets \\textrm{linear inequality constraint} \\\\\n",
    "    & \\mathbf{y} \\in  \\mathbb{R}^N. & &  \n",
    "  \\end{aligned}\n",
    "\\end{equation} \n",
    "$$"
   ]
  },
  {
   "cell_type": "markdown",
   "id": "86bbfc6c-d7eb-4b5a-9fcd-ffefb250c278",
   "metadata": {
    "editable": true,
    "slideshow": {
     "slide_type": "subslide"
    },
    "tags": []
   },
   "source": [
    "### Demonstrations on simple COPs\n",
    "    - Test COPs\n",
    "        - selected test functions of the CEC 2017 competition\n",
    "\n",
    "| Constraint function C01      | Constraint function C03 |  Constraint function C11|\n",
    "| ----------- | ----------- |  --------- |\n",
    "| $$\n",
    "\\begin{equation}\n",
    " \\begin{aligned}\n",
    "   \\min \\:\\: & f(\\mathbf{y}) = \\sum_{i=1}^{N} \\left( \\sum_{j=1}^i (\\mathbf{y}_j-\\mathbf{y}^*_j)^2 \\right)  & &   \\\\\n",
    "    s.t. \\:\\: & g(\\mathbf{y}) = \\sum_{i=1}^{N} \\left[ (\\mathbf{y}_i-\\mathbf{y}^*_i)^2 +5000\\cdot\\cos\\left(0.1\\pi(\\mathbf{y}_i-\\mathbf{y}^*_i)\\right) -4000 \\right] \\leq 0,  &   &   \\\\\n",
    "    & \\mathbf{y} \\in [-100,100]^N \\subset \\mathbb{R}^N. & &  \n",
    "  \\end{aligned}\n",
    "\\end{equation} \n",
    "$$     | $$\n",
    "\\begin{equation}\n",
    " \\begin{aligned}\n",
    "   \\min \\:\\: & f(\\mathbf{y}) = \\sum_{i=1}^{N} \\left( \\sum_{j=1}^i (\\mathbf{y}_j-\\mathbf{y}^*_j)^2 \\right)  & &   \\\\\n",
    "    s.t. \\:\\: & g(\\mathbf{y}) = \\sum_{i=1}^{N} \\left[ (\\mathbf{y}_i-\\mathbf{y}^*_i)^2 +5000\\cdot\\cos\\left(0.1\\pi(\\mathbf{y}_i-\\mathbf{y}^*_i)\\right) -4000 \\right] \\leq 0,  &   &   \\\\\n",
    "    & h(\\mathbf{y}) =- \\sum_{i=1}^{N} (\\mathbf{y}_i-\\mathbf{y}^*_i)\\cdot\\sin\\left(0.1\\pi(\\mathbf{y}_i-\\mathbf{y}^*_i)\\right) = 0,  &   &   \\\\\n",
    "    & \\mathbf{y} \\in [-100,100]^N \\subset \\mathbb{R}^N. & &  \n",
    "  \\end{aligned}\n",
    "\\end{equation} \n",
    "$$   | $$\n",
    "\\begin{equation}\n",
    " \\begin{aligned}\n",
    "   \\min \\:\\: & f(\\mathbf{y}) = \\sum_{i=1}^{N} \\mathbf{y} & &    \\\\\n",
    "    s.t. \\:\\: & g(\\mathbf{y}) = \\prod_{i=1}^{N} \\mathbf{y}_i \\leq 0 ,  &   &   \\\\\n",
    "    & h(\\mathbf{y}) = \\sum_{i=1}^{N-1} \\left(\\mathbf{y}_i - \\mathbf{y}_{i+1}\\right)^2 = 0,  &   &   \\\\\n",
    "    & \\mathbf{y} \\in [-100,100]^N \\subset \\mathbb{R}^N. & &  \n",
    "  \\end{aligned}\n",
    "\\end{equation} \n",
    "$$ |\n",
    "\n",
    "        "
   ]
  },
  {
   "cell_type": "code",
   "execution_count": 1,
   "id": "2e1c967c-a7c8-4684-af8b-042590d6e063",
   "metadata": {
    "editable": true,
    "slideshow": {
     "slide_type": "skip"
    },
    "tags": []
   },
   "outputs": [
    {
     "ename": "ModuleNotFoundError",
     "evalue": "No module named 'maes'",
     "output_type": "error",
     "traceback": [
      "\u001b[1;31m---------------------------------------------------------------------------\u001b[0m",
      "\u001b[1;31mModuleNotFoundError\u001b[0m                       Traceback (most recent call last)",
      "Cell \u001b[1;32mIn[1], line 1\u001b[0m\n\u001b[1;32m----> 1\u001b[0m \u001b[38;5;28;01mfrom\u001b[39;00m \u001b[38;5;21;01mmaes\u001b[39;00m \u001b[38;5;28;01mimport\u001b[39;00m MAES\n\u001b[0;32m      2\u001b[0m \u001b[38;5;28;01mfrom\u001b[39;00m \u001b[38;5;21;01mmaes\u001b[39;00m \u001b[38;5;28;01mimport\u001b[39;00m sphere\n\u001b[0;32m      3\u001b[0m \u001b[38;5;28;01mimport\u001b[39;00m \u001b[38;5;21;01mnumpy\u001b[39;00m \u001b[38;5;28;01mas\u001b[39;00m \u001b[38;5;21;01mnp\u001b[39;00m\n",
      "\u001b[1;31mModuleNotFoundError\u001b[0m: No module named 'maes'"
     ]
    }
   ],
   "source": [
    "from maes import MAES\n",
    "from maes import sphere\n",
    "import numpy as np\n",
    "import matplotlib.pyplot as plt\n",
    "\n",
    "#This section still needs some revision"
   ]
  },
  {
   "cell_type": "code",
   "execution_count": null,
   "id": "b5adbde1-4708-4f4d-8c47-77694251428d",
   "metadata": {
    "editable": true,
    "slideshow": {
     "slide_type": "skip"
    },
    "tags": []
   },
   "outputs": [],
   "source": [
    "test = MAES(np.ones(30),3,10,1,500,100000)\n",
    "plt.figure\n",
    "plt.yscale(\"log\")\n",
    "plt.plot(test[2])\n"
   ]
  },
  {
   "cell_type": "markdown",
   "id": "1d9276bb",
   "metadata": {
    "editable": true,
    "slideshow": {
     "slide_type": "slide"
    },
    "tags": []
   },
   "source": [
    "### C.\tInteractive Session\n",
    "- Download the **Experiment Package** (Python 3 environment needed)\n",
    "    - QR code for download \n",
    "    - **Content**\n",
    "        - files\n",
    "        - resources\n",
    "        \n",
    "- **Interactive breakout**\n",
    "    - Try different combinations on the three provided test COPs\n",
    "\n",
    "- Overview of **ES advantages** in COP environments"
   ]
  },
  {
   "attachments": {},
   "cell_type": "markdown",
   "id": "c754a404",
   "metadata": {
    "slideshow": {
     "slide_type": "slide"
    }
   },
   "source": [
    "### Download the Experiment Package from Github \n",
    "\n",
    "<img src=\"images/qrcode.png\" align=\"center\" class=\"center\" width=60%>\n",
    "\n",
    "or simply use the link to our\n",
    "\n",
    "[ES4COP Github repository](https://jrc-rodec.github.io/es4cop/)"
   ]
  },
  {
   "cell_type": "markdown",
   "id": "89b24921",
   "metadata": {
    "slideshow": {
     "slide_type": "slide"
    }
   },
   "source": [
    "**Interactive breakout**\n",
    "- Try different combinations on the three provided test COPs\n"
   ]
  },
  {
   "cell_type": "markdown",
   "id": "a40860c7",
   "metadata": {
    "editable": true,
    "slideshow": {
     "slide_type": "slide"
    },
    "tags": []
   },
   "source": [
    "## Selected **successful** ES in COP environments\n",
    "\n",
    "1. ES on the Klee-Minty Problem\n",
    "    - $\\epsilon$MAg-ES\n",
    "    - dAL-ES\n",
    "      \n",
    "2. ES for optimization on manifolds\n",
    "    - MA-ES \n",
    "   \n",
    "3. ES for portfolio optimization\n",
    "    - CMSA-ES"
   ]
  },
  {
   "cell_type": "markdown",
   "id": "df04d038-48e6-4862-b3ff-68851fde7968",
   "metadata": {
    "editable": true,
    "slideshow": {
     "slide_type": "subslide"
    },
    "tags": []
   },
   "source": [
    "### ES on the Klee-Minty Problem\n",
    "\n",
    "- The Rotated Klee-Minty Problem represents a scalable linear constrained optimization problem.\n",
    "- It is determined by\n",
    " $$\\begin{equation}\n",
    "\t  \\begin{split}\n",
    "\t    \\min_{\\mathbf{y} \\in \\mathbb{R}^N} \\: &\\: (0, 0, \\dots, 0,  1 )^\\top\\mathbf{y}  \\\\\n",
    "\t    \\textrm{s.t.} \\: & \\:  \\mathbf{A}\\cdot\\mathbf{R}(\\mathbf{y}-\\mathbf{t}) \\leq \\mathbf{b}, \\\\\n",
    "\t\t\t   &  \\: \\check{\\mathbf{y}} \\leq \\mathbf{y} \\leq \\hat{\\mathbf{y}},\n",
    "\t  \\end{split}\n",
    "\t\\end{equation}$$\n",
    "\n",
    "- The feasible region represents a perturbed unit hyper cube in the $\\mathbb{R}^N$\n",
    "- A problem representation using a rotated feasible region was proposed as a test environment for EA in ([M. Hellwig and H.-G. Beyer, 2019](https://doi.org/10.1007/978-3-030-04070-3_11))\n",
    "\n",
    "<img src=\"images/Klee-Minty-cube.png\" align=\"tight\" class=\"center\" width=40% alt=\"Image source: Wikipedia\">"
   ]
  },
  {
   "cell_type": "markdown",
   "id": "83483339-6991-44d0-8423-5edb76d033ca",
   "metadata": {
    "editable": true,
    "slideshow": {
     "slide_type": "subslide"
    },
    "tags": []
   },
   "source": [
    "### ES on the Klee-Minty Problem\n",
    "\n",
    "- represents a challenge for many exact solvers\n",
    "    - is an example that shows the worst-case computational complexity of many algorithms of linear optimization\n",
    "    - Danzig's Simplex Algorithm visits all $2^N$ corners of the KM-cube in the worst case\n",
    "      \n",
    "- it turns out that the $\\epsilon$MAg-ES shows quite good results (particularly in high dimensions)\n",
    "    - interestingly the performence improves when the $\\epsilon$-level odering relaxation is turned off\n",
    " \n",
    "      |<img src=\"images/km01.png\" align=\"tight\" class=\"center\" width=37% alt=\" \"> |<img src=\"images/km02.png\" align=\"tight\" class=\"center\" width=35.5% alt=\" \">|"
   ]
  },
  {
   "cell_type": "markdown",
   "id": "a598f308-5068-4cf2-9dc0-5cbe7a9ebe1a",
   "metadata": {
    "editable": true,
    "slideshow": {
     "slide_type": "subslide"
    },
    "tags": []
   },
   "source": [
    "### ES on the Klee-Minty Problem\n",
    "\n",
    "- just recently an ES variant using the Augmented Langrangian approach realized even better results\n",
    "    - <a href=\"https://doi.org/10.1145/3638529.3654012\">J. Porter and D. V. Arnold, 2024, \"Direct Augmented Lagrangian Evolution Strategies\", ACM GECCO, 2024</a>  </li>  \n",
    "\n",
    "<img src=\"images/km03.png\" align=\"tight\" class=\"center\" width=100% alt=\" \">"
   ]
  },
  {
   "attachments": {},
   "cell_type": "markdown",
   "id": "ce8e263e-bebd-451c-866d-3f04bfade698",
   "metadata": {
    "editable": true,
    "slideshow": {
     "slide_type": "subslide"
    },
    "tags": []
   },
   "source": [
    "### ES for optimization on manifolds\n",
    "\n",
    "- An MA-ES variant for general equality quadratic constraints was designed in <br><a href=\"https://doi.org/10.1145/3551394\">P. Spettel and H.G. Beyer, On the Design of a Matrix Adaptation Evolution Strategy for Optimization on General Quadratic Manifolds, ACM TELO, 2022</a>\n",
    "\n",
    "- It uses specific mutation operators according to the type of constraints\n",
    "$$ \\begin{equation}\n",
    "        \\begin{split}\n",
    "            \\textrm{min } & f(\\mathbf{y}) \\\\\n",
    "                \\textrm{s.t. } & \\mathbf{y}^\\top \\mathbf{S} \\mathbf{y} - \\kappa = 0\n",
    "        \\end{split}\n",
    "  \\end{equation} $$\n",
    "with $\\mathbf{S}\\in\\mathbb{R}^{N\\times N}$ and $\\kappa \\in \\mathbb{R}$.\n",
    "    - **elliptic** ($\\kappa >0$, $\\mathbf{S}$ positive definite)\n",
    "    - **parabolic** ($\\mathbf{S}$ may have zero and positive eigenvalues)\n",
    "    - **hyperbolic** (cases with negative eigenvalues of $\\mathbf{S}$)\n",
    "      \n",
    "- The **MA-ES variant** represents an interior-point methods on the manifold defined by the equality constraint(s).\n",
    "    - By design there is no need for constraint handling\n",
    "\n",
    "<img src=\"images/hypThomp01.png\" align=\"tight\" class=\"center\" width=70% alt=\" \">\n",
    "\n"
   ]
  },
  {
   "attachments": {},
   "cell_type": "markdown",
   "id": "65e72456-dae2-4607-b92d-e79347154082",
   "metadata": {
    "editable": true,
    "slideshow": {
     "slide_type": "subslide"
    },
    "tags": []
   },
   "source": [
    "### ES for optimization on manifolds\n",
    "\n",
    "- The MA-ES variant is competitive to commercial solvers like `FMINCON` (Matlab) on several real-world COPs:\n",
    "\n",
    "     - **TAMMES / THOMPSON problem**\n",
    "         - Place $k$ points on the surface of a Sphere such that the points are maximally apart from each other.\n",
    "             - For the illustration below the Sphere was exchanged with a Heart surface  \n",
    "             - Replacing the distance objective with the goal to minimize the electrostatic energy ($\\to$ **Thompson**)  \n",
    "|<img src=\"images/hypThomp03.png\" align=\"tight\" class=\"center\" width=50% alt=\" \">|<img src=\"images/hypThomp02.png\" align=\"tight\" class=\"center\" width=40% alt=\" \">|\n",
    "\n"
   ]
  },
  {
   "cell_type": "markdown",
   "id": "edd68610-1358-4cfc-9cba-37b6496466a9",
   "metadata": {
    "editable": true,
    "slideshow": {
     "slide_type": "subslide"
    },
    "tags": []
   },
   "source": [
    "### CMSA for Portfolio Optimization\n",
    "- scenario-based problem: $K$ assets in $S$ scenarios with random asset returns $Y_{sk}$\n",
    "- find asset weights $x_k$ to maximize total return\n",
    "- *cardinality constraint*: $$\\# \\left(\\left\\{s \\in \\{1, \\ldots, S\\} \\left|  \\sum_{k=1}^K Y_{sk}x_k \\right. \\geq \\kappa\\right\\}\\right) \\geq \\lfloor \\alpha S \\rfloor$$\n",
    "- change of the location of the optimal point: from edge to (possibly) the interior of simplex\n",
    "- propsed solution includes 3 constraint handling approaches:\n",
    "    - specific mutation operator for the equality constraint ($\\sum x_k = 1$)\n",
    "    - repair for existing box-constraints ($0 \\leq x_k \\leq 1$)\n",
    "    - lexicographic selection for cardinality constraint\n",
    "- restart variant with increasing population size was competitive with linear programming approach (in terms of objective function value)\n",
    "- full paper: [On the Design of Constraint Covariance Matrix Self-Adaptation Evolution Strategies Including a Cardinality Constraint, Beyer and Finck, 2012](https://doi.org/10.1109/TEVC.2011.2169967)\n",
    "- extensions:\n",
    "    - multi-period case\n",
    "    - scenario tree as solution structure\n",
    "    - consideration of (asymmetric) transaction costs\n",
    "    - see [Evolution on trees: On the design of an evolution strategy for scenario-based multi-period portfolio optimization under transaction costs, Beyer, Finck, and Breuer, 2014](http://dx.doi.org/10.1016/j.swevo.2014.03.002)"
   ]
  },
  {
   "attachments": {},
   "cell_type": "markdown",
   "id": "879f5e95-6ec9-495d-bc2e-3160cb4ceab8",
   "metadata": {
    "editable": true,
    "slideshow": {
     "slide_type": "subslide"
    },
    "tags": []
   },
   "source": [
    "### CMSA for Portfolio Optimization\n",
    "\n",
    "|without transaction costs|with transaction costs|\n",
    "| --- | --- |\n",
    "|<img src=\"images/portfolio-notransactions.png\" align=\"right\" class=\"center\" width=70% >|<img src=\"images/portfolio-withtransactions.png\" align=\"right\" class=\"center\" width=70% >|\n"
   ]
  },
  {
   "cell_type": "markdown",
   "id": "1c68c5a9-6808-4172-8344-1505c0974c33",
   "metadata": {
    "editable": true,
    "slideshow": {
     "slide_type": "slide"
    },
    "tags": []
   },
   "source": [
    "## Concluding remarks  \n",
    "\n",
    "- Algorithms and results demonstrate that ES are a great choice for solving COPs\n",
    "    - Employing constraint handling, ES transfer their cababilities demonstrated in unconstrained environments \n",
    "    - One observes comparable performance to commercial solvers on certain COPs\n",
    "\n",
    "- The available benchmarks address very diverse COP types\n",
    "    - CEC includes rather unstructured sets of COP test functions\n",
    "    - BBOB-constraint is restricted to COPs with inequality constraints (and optimizer on the boundary)\n",
    "\n",
    "- Selection of the right algorithm for a COP not always straight forward\n",
    "    - Solvers use different variants of constraint handling techniques and thus are usually hard to compare \n",
    "    - Success heavily depends on a suitable solver + problem combination\n",
    "\n",
    "- Transparent reporting of working principles and function evaluation counting is essential\n",
    "    - Particularly important for hybrid solvers (e.g., using `FMINCON` internally, etc.)\n",
    "    - Parameter configuration studies are rare\n",
    "    - Do not forget about the bound constraints\n",
    "\n",
    "\n"
   ]
  },
  {
   "cell_type": "markdown",
   "id": "a329559f-4e92-46e3-ab95-8e139a0bb3d5",
   "metadata": {
    "editable": true,
    "slideshow": {
     "slide_type": "slide"
    },
    "tags": []
   },
   "source": [
    "# Thank you for participation! "
   ]
  },
  {
   "cell_type": "code",
   "execution_count": null,
   "id": "e8f0bf23-1cb0-44d5-bf9f-d5d223b0457c",
   "metadata": {
    "editable": true,
    "slideshow": {
     "slide_type": "slide"
    },
    "tags": []
   },
   "outputs": [],
   "source": []
  }
 ],
 "metadata": {
  "celltoolbar": "Slideshow",
  "kernelspec": {
   "display_name": "Python 3 (ipykernel)",
   "language": "python",
   "name": "python3"
  },
  "language_info": {
   "codemirror_mode": {
    "name": "ipython",
    "version": 3
   },
   "file_extension": ".py",
   "mimetype": "text/x-python",
   "name": "python",
   "nbconvert_exporter": "python",
   "pygments_lexer": "ipython3",
   "version": "3.12.4"
  }
 },
 "nbformat": 4,
 "nbformat_minor": 5
}
